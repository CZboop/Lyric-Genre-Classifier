{
  "cells": [
    {
      "cell_type": "code",
      "execution_count": 1,
      "metadata": {
        "id": "EVnjCFTG5nqe"
      },
      "outputs": [],
      "source": [
        "import numpy as np\n",
        "import pandas as pd\n",
        "import csv"
      ]
    },
    {
      "cell_type": "code",
      "execution_count": 2,
      "metadata": {
        "colab": {
          "base_uri": "https://localhost:8080/"
        },
        "id": "n2mZx7PbD0Pf",
        "outputId": "17a7bcf0-6d44-431c-be4f-cb3df56d9589"
      },
      "outputs": [
        {
          "output_type": "stream",
          "name": "stdout",
          "text": [
            "[nltk_data] Downloading package stopwords to /root/nltk_data...\n",
            "[nltk_data]   Unzipping corpora/stopwords.zip.\n"
          ]
        },
        {
          "output_type": "execute_result",
          "data": {
            "text/plain": [
              "True"
            ]
          },
          "metadata": {},
          "execution_count": 2
        }
      ],
      "source": [
        "import re\n",
        "import nltk\n",
        "nltk.download('stopwords')"
      ]
    },
    {
      "cell_type": "code",
      "execution_count": 3,
      "metadata": {
        "id": "lGlqtAvfD2XC"
      },
      "outputs": [],
      "source": [
        "from nltk.corpus import stopwords"
      ]
    },
    {
      "cell_type": "code",
      "source": [
        "# loading from file now that combined data file has been created\n",
        "lyric_df = pd.read_csv('lyric_data_combined_nostopwords.csv',  usecols=range(1,3), header = 0, delimiter=\",\", quoting=csv.QUOTE_NONE, \n",
        "                       encoding='utf-8')\n",
        "lyric_df.columns = ['genre', 'lyrics']"
      ],
      "metadata": {
        "id": "bVoPFZCoYIDl"
      },
      "execution_count": 4,
      "outputs": []
    },
    {
      "cell_type": "code",
      "source": [
        "# now want to test classifying between just two distinct genres\n",
        "lyric_df = lyric_df.loc[(lyric_df['genre'] == 'Metal') | (lyric_df['genre'] == 'R&B')].astype(str)"
      ],
      "metadata": {
        "id": "UjQntvfRYns_"
      },
      "execution_count": 14,
      "outputs": []
    },
    {
      "cell_type": "code",
      "execution_count": null,
      "metadata": {
        "id": "ExFmtxN_tyNK"
      },
      "outputs": [],
      "source": [
        "lyric_df.head"
      ]
    },
    {
      "cell_type": "code",
      "execution_count": 11,
      "metadata": {
        "id": "IwQMHERBIGea"
      },
      "outputs": [],
      "source": [
        "from tensorflow.keras import Sequential\n",
        "from tensorflow.keras.layers import Embedding, LSTM, Dense\n",
        "from keras.preprocessing.text import Tokenizer\n",
        "from tensorflow.keras.preprocessing.sequence import pad_sequences"
      ]
    },
    {
      "cell_type": "code",
      "execution_count": 12,
      "metadata": {
        "id": "PtXzR3PuHhp-"
      },
      "outputs": [],
      "source": [
        "MAX_NB_WORDS = 5000\n",
        "MAX_SEQ_LEN = 250\n",
        "EMBEDDING_DIM = 100"
      ]
    },
    {
      "cell_type": "code",
      "execution_count": 16,
      "metadata": {
        "colab": {
          "base_uri": "https://localhost:8080/"
        },
        "id": "2YYEeFq3PpFw",
        "outputId": "7a082211-d9ca-4615-edf1-98a509450e66"
      },
      "outputs": [
        {
          "output_type": "stream",
          "name": "stdout",
          "text": [
            "Unique tokens =  53278\n"
          ]
        }
      ],
      "source": [
        "tokenizer = Tokenizer(num_words = MAX_NB_WORDS, filters='!\"#$%&()*+,-./:;<=>?@[\\]^_`{|}~', lower=True) \n",
        "tokenizer.fit_on_texts(lyric_df['lyrics'].values)\n",
        "word_index = tokenizer.word_index\n",
        "\n",
        "print(\"Unique tokens = \", len(word_index))"
      ]
    },
    {
      "cell_type": "code",
      "execution_count": 17,
      "metadata": {
        "colab": {
          "base_uri": "https://localhost:8080/"
        },
        "id": "E-YlwRXDQsCr",
        "outputId": "19f7b3e9-f202-4e79-d861-b4f524d9fe9f"
      },
      "outputs": [
        {
          "output_type": "stream",
          "name": "stdout",
          "text": [
            "Data shape =  (23217, 250)\n"
          ]
        }
      ],
      "source": [
        "# making seqs more uniform, len at least\n",
        "X = tokenizer.texts_to_sequences(lyric_df['lyrics'].values)\n",
        "X = pad_sequences(X, maxlen = MAX_SEQ_LEN)\n",
        "print('Data shape = ', X.shape)"
      ]
    },
    {
      "cell_type": "code",
      "execution_count": 18,
      "metadata": {
        "colab": {
          "base_uri": "https://localhost:8080/"
        },
        "id": "FXkSkazJRgKz",
        "outputId": "f8ec3f68-20e0-4dbd-8baf-1ef373d7f6d6"
      },
      "outputs": [
        {
          "output_type": "stream",
          "name": "stdout",
          "text": [
            "Label shape =  (23217, 2)\n"
          ]
        }
      ],
      "source": [
        "# class labels to nums\n",
        "y = pd.get_dummies(lyric_df['genre']).values\n",
        "print(\"Label shape = \", y.shape)"
      ]
    },
    {
      "cell_type": "code",
      "execution_count": 19,
      "metadata": {
        "id": "Vd9IM39xSDdQ"
      },
      "outputs": [],
      "source": [
        "from sklearn.model_selection import train_test_split\n",
        "from tensorflow.keras.layers import SpatialDropout1D\n",
        "from tensorflow.keras.callbacks import EarlyStopping\n",
        "# train test split \n",
        "X_train, X_test, y_train, y_test = train_test_split(X, y, test_size=0.2, random_state = 42)"
      ]
    },
    {
      "cell_type": "code",
      "execution_count": 20,
      "metadata": {
        "colab": {
          "base_uri": "https://localhost:8080/"
        },
        "id": "YKLoTkfCSx8B",
        "outputId": "79b1c3b4-c4cb-490d-a94c-cdad8323e178"
      },
      "outputs": [
        {
          "output_type": "stream",
          "name": "stdout",
          "text": [
            "Epoch 1/8\n",
            "146/146 [==============================] - 127s 844ms/step - loss: 0.3378 - accuracy: 0.8710 - val_loss: 0.2955 - val_accuracy: 0.8864\n",
            "Epoch 2/8\n",
            "146/146 [==============================] - 124s 852ms/step - loss: 0.2174 - accuracy: 0.9169 - val_loss: 0.2773 - val_accuracy: 0.8914\n",
            "Epoch 3/8\n",
            "146/146 [==============================] - 121s 830ms/step - loss: 0.1643 - accuracy: 0.9373 - val_loss: 0.2996 - val_accuracy: 0.8879\n",
            "Epoch 4/8\n",
            "146/146 [==============================] - 123s 841ms/step - loss: 0.1229 - accuracy: 0.9557 - val_loss: 0.3333 - val_accuracy: 0.8917\n",
            "Epoch 5/8\n",
            "146/146 [==============================] - 124s 850ms/step - loss: 0.0937 - accuracy: 0.9677 - val_loss: 0.3729 - val_accuracy: 0.8832\n"
          ]
        }
      ],
      "source": [
        "# lstm model\n",
        "model = Sequential()\n",
        "model.add(Embedding(MAX_NB_WORDS, EMBEDDING_DIM, input_length=X.shape[1]))\n",
        "model.add(SpatialDropout1D(0.2))\n",
        "model.add(LSTM(100, dropout=0.2, recurrent_dropout=0.2))\n",
        "model.add(Dense(2, activation='softmax')) # replace this num with final number of classes classifying between/in dataset used if this changes\n",
        "\n",
        "model.compile(loss='categorical_crossentropy', optimizer='adam', metrics=['accuracy'])\n",
        "\n",
        "epochs = 8\n",
        "batch_size = 64\n",
        "\n",
        "history = model.fit(X_train, y_train, epochs = epochs, batch_size = batch_size, validation_split=0.5, \n",
        "                    callbacks=[EarlyStopping(monitor='val_loss', patience=3, min_delta=0.0001)])"
      ]
    },
    {
      "cell_type": "code",
      "execution_count": 21,
      "metadata": {
        "id": "a7dzA3TCYhVN"
      },
      "outputs": [],
      "source": [
        "# saving trained model and tokenizer\n",
        "import pickle\n",
        "from pickle import dump\n",
        "model.save('model_metal_rnb.h5')\n",
        "dump(tokenizer, open('tokenizer_metal_rnb.pkl', 'wb'))"
      ]
    },
    {
      "cell_type": "code",
      "execution_count": 22,
      "metadata": {
        "colab": {
          "base_uri": "https://localhost:8080/"
        },
        "id": "G5H7swHreS9E",
        "outputId": "19bcb1b2-5628-4e41-8735-eaab6c64ac0e"
      },
      "outputs": [
        {
          "output_type": "stream",
          "name": "stdout",
          "text": [
            "146/146 [==============================] - 11s 72ms/step - loss: 0.3681 - accuracy: 0.8777\n",
            "Loss:  0.3681314289569855\n",
            "Accuracy:  0.8776916265487671\n"
          ]
        }
      ],
      "source": [
        "# testing model accuracy\n",
        "accuracy = model.evaluate(X_test, y_test)\n",
        "print(\"Loss: \", accuracy[0])\n",
        "print(\"Accuracy: \", accuracy[1])"
      ]
    }
  ],
  "metadata": {
    "colab": {
      "collapsed_sections": [],
      "name": "ClassifierLSTMTrainTestCombinedTwoGenres.ipynb",
      "provenance": []
    },
    "kernelspec": {
      "display_name": "Python 3",
      "name": "python3"
    },
    "language_info": {
      "name": "python"
    }
  },
  "nbformat": 4,
  "nbformat_minor": 0
}