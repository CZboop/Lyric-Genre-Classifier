{
  "nbformat": 4,
  "nbformat_minor": 0,
  "metadata": {
    "colab": {
      "name": "Untitled1.ipynb",
      "provenance": []
    },
    "kernelspec": {
      "name": "python3",
      "display_name": "Python 3"
    },
    "language_info": {
      "name": "python"
    }
  },
  "cells": [
    {
      "cell_type": "code",
      "execution_count": 1,
      "metadata": {
        "id": "EVnjCFTG5nqe"
      },
      "outputs": [],
      "source": [
        "import numpy as np\n",
        "import pandas as pd\n",
        "from sklearn.preprocessing import LabelEncoder\n",
        "from sklearn.model_selection import train_test_split\n",
        "import csv"
      ]
    },
    {
      "cell_type": "code",
      "source": [
        "lenc = LabelEncoder()"
      ],
      "metadata": {
        "id": "IL25DsXt7kh9"
      },
      "execution_count": 2,
      "outputs": []
    },
    {
      "cell_type": "code",
      "source": [
        "lyric_df = pd.read_csv('lyrics-data.csv',  usecols=[0,1,2,4], header = None, delimiter=\",\", quoting=csv.QUOTE_NONE, encoding='utf-8')\n",
        "lyric_df.columns = ['alink', 'song', 'lyric', 'lang']\n",
        "# for both, data has commas inside which is messing with delimiter, come back to this"
      ],
      "metadata": {
        "id": "-GOrTqrm7cyv"
      },
      "execution_count": 3,
      "outputs": []
    },
    {
      "cell_type": "code",
      "source": [
        "lyric_df.shape"
      ],
      "metadata": {
        "colab": {
          "base_uri": "https://localhost:8080/"
        },
        "id": "URpfBAMN8VjA",
        "outputId": "fd16873b-ee81-4073-b11a-c4aabd2c3ffa"
      },
      "execution_count": 4,
      "outputs": [
        {
          "output_type": "execute_result",
          "data": {
            "text/plain": [
              "(210263, 4)"
            ]
          },
          "metadata": {},
          "execution_count": 4
        }
      ]
    },
    {
      "cell_type": "code",
      "source": [
        "artist_df = pd.read_csv('artists-data.csv', usecols=[0,1,3,4,5],header = None, delimiter=\",\", quoting=csv.QUOTE_NONE, encoding='utf-8')\n",
        "artist_df.columns = ['artist', 'songs', 'link', 'genre', 'genres']"
      ],
      "metadata": {
        "id": "FkjpIhu0BJYe"
      },
      "execution_count": 5,
      "outputs": []
    },
    {
      "cell_type": "code",
      "source": [
        "artist_df.shape"
      ],
      "metadata": {
        "colab": {
          "base_uri": "https://localhost:8080/"
        },
        "id": "bLHv5NX3BJgk",
        "outputId": "7a8f0814-a9bb-4e86-9e12-bfa5f4228716"
      },
      "execution_count": 6,
      "outputs": [
        {
          "output_type": "execute_result",
          "data": {
            "text/plain": [
              "(3243, 5)"
            ]
          },
          "metadata": {},
          "execution_count": 6
        }
      ]
    },
    {
      "cell_type": "code",
      "source": [
        "artist_df.head\n",
        "lyric_df.head"
      ],
      "metadata": {
        "colab": {
          "base_uri": "https://localhost:8080/"
        },
        "id": "ZHKwU_fvC5KJ",
        "outputId": "56007d5a-f3da-4bb2-f614-313766ffa17d"
      },
      "execution_count": 7,
      "outputs": [
        {
          "output_type": "execute_result",
          "data": {
            "text/plain": [
              "<bound method NDFrame.head of                    alink  ...                                               lang\n",
              "0                  ALink  ...                                              Idiom\n",
              "1        /10000-maniacs/  ...                                            ENGLISH\n",
              "2        /10000-maniacs/  ...                                               baby\n",
              "3        /10000-maniacs/  ...   I promise. Will the whole world be warm as th...\n",
              "4        /10000-maniacs/  ...   \"\"O my mountain has coal veins and beds to di...\n",
              "...                  ...  ...                                                ...\n",
              "210258  /zeca-pagodinho/  ...                     iaiá. Você me jogou um feitiço\n",
              "210259  /zeca-pagodinho/  ...                         um desejo a mais. Veja bem\n",
              "210260  /zeca-pagodinho/  ...                                              palma\n",
              "210261  /zeca-pagodinho/  ...   cadê a samba?. Está mangando na curimba. Está...\n",
              "210262  /zeca-pagodinho/  ...                                                 \"Ô\n",
              "\n",
              "[210263 rows x 4 columns]>"
            ]
          },
          "metadata": {},
          "execution_count": 7
        }
      ]
    },
    {
      "cell_type": "code",
      "source": [
        "# just getting english lyrics and a temporary way of removing dodgy data due to delimiter issue\n",
        "lyric_df = lyric_df.loc[lyric_df['lang'] == 'ENGLISH']\n",
        "\n",
        "# making a list of genres to match up with rows of df that can then add as a column\n",
        "lyrics_genres = []\n",
        "for index, row in lyric_df.iterrows():\n",
        "  # below may be returning a series, currently just string casting may want to handle other way later\n",
        "  main_genre = artist_df.loc[artist_df['link'] == row['alink']]['genre']\n",
        "  lyrics_genres.append(str(main_genre))\n",
        "\n",
        "# something not quite right getting multiple genres for some and none for others it seems\n",
        "# print(lyrics_genres[250:260])\n",
        "\n",
        "# adding genres to lyrics\n",
        "lyric_df['genre'] = lyrics_genres\n"
      ],
      "metadata": {
        "colab": {
          "base_uri": "https://localhost:8080/"
        },
        "id": "j_kPZNi8CEv-",
        "outputId": "64fa2355-2e3a-4140-cab8-003e4516691c"
      },
      "execution_count": 8,
      "outputs": [
        {
          "output_type": "stream",
          "name": "stderr",
          "text": [
            "/usr/local/lib/python3.7/dist-packages/ipykernel_launcher.py:15: SettingWithCopyWarning: \n",
            "A value is trying to be set on a copy of a slice from a DataFrame.\n",
            "Try using .loc[row_indexer,col_indexer] = value instead\n",
            "\n",
            "See the caveats in the documentation: https://pandas.pydata.org/pandas-docs/stable/user_guide/indexing.html#returning-a-view-versus-a-copy\n",
            "  from ipykernel import kernelapp as app\n"
          ]
        }
      ]
    },
    {
      "cell_type": "code",
      "source": [
        "# now that there's genre column will encode to use as class/ifier\n",
        "# print(lyric_df.loc(['genre']))\n",
        "lyric_df.head\n",
        "# lyric_df = lyric_df.loc[(lyric_df['genre'] == 'Rock') | (lyric_df['genre'] == 'Pop')]\n",
        "lyric_data_encoded = lyric_df.apply(lenc.fit_transform, axis=0)\n",
        "lyric_data_encoded1 = lyric_data_encoded.loc[lyric_data_encoded['genre'] == 0]\n",
        "lyric_data_encoded2 = lyric_data_encoded.loc[lyric_data_encoded['genre'] == 1]\n",
        "lyric_data_encoded = pd.concat([lyric_data_encoded1, lyric_data_encoded2])\n",
        "lyric_data_encoded.head\n",
        "# because of genre extraction issues, there are more genres appearing than there should be, may filter out non standard, ignore etc "
      ],
      "metadata": {
        "colab": {
          "base_uri": "https://localhost:8080/"
        },
        "id": "I_mUsWKMXRXB",
        "outputId": "fc454e55-42f6-4e9a-99a5-aec1152e7fe6"
      },
      "execution_count": 9,
      "outputs": [
        {
          "output_type": "execute_result",
          "data": {
            "text/plain": [
              "<bound method NDFrame.head of         alink   song  lyric  lang  genre\n",
              "1           0   7330     16     0      0\n",
              "8           0   8521     21     0      0\n",
              "10          0    668      1     0      0\n",
              "12          0    890      3     0      0\n",
              "16          0   6934     15     0      0\n",
              "...       ...    ...    ...   ...    ...\n",
              "114663    244  11256   3770     0      1\n",
              "114664    244  11466   3771     0      1\n",
              "114671    244  12724   3772     0      1\n",
              "114672    244  13158   3773     0      1\n",
              "114673    244  13184   3774     0      1\n",
              "\n",
              "[94 rows x 5 columns]>"
            ]
          },
          "metadata": {},
          "execution_count": 9
        }
      ]
    },
    {
      "cell_type": "code",
      "source": [
        "encoded_lyric_data = lyric_data_encoded.values"
      ],
      "metadata": {
        "id": "Pce3AyTYcJS1"
      },
      "execution_count": 10,
      "outputs": []
    },
    {
      "cell_type": "code",
      "source": [
        "# assigning lyrics and genre to info and class for later use\n",
        "lyric_info = encoded_lyric_data[:, :-1]\n",
        "# print(lyric_info.shape)\n",
        "lyric_classes = encoded_lyric_data[:, -1]\n",
        "lyric_classes\n",
        "print(lyric_info.shape[1])"
      ],
      "metadata": {
        "colab": {
          "base_uri": "https://localhost:8080/"
        },
        "id": "jSZmRkVccP8j",
        "outputId": "d6b7db11-082c-4f12-dcbc-6113a90d2f81"
      },
      "execution_count": 11,
      "outputs": [
        {
          "output_type": "stream",
          "name": "stdout",
          "text": [
            "4\n"
          ]
        }
      ]
    },
    {
      "cell_type": "code",
      "source": [
        "X_train,  X_test, y_train, y_test = train_test_split(\n",
        "    lyric_info, lyric_classes, test_size=0.40, random_state=42\n",
        ")\n",
        "print(X_test)"
      ],
      "metadata": {
        "colab": {
          "base_uri": "https://localhost:8080/"
        },
        "id": "zHv-QS0efu2b",
        "outputId": "8bc77d62-a427-454b-fe94-5c4164e15d55"
      },
      "execution_count": 12,
      "outputs": [
        {
          "output_type": "stream",
          "name": "stdout",
          "text": [
            "[[  244    66  3750     0]\n",
            " [    0  6934    15     0]\n",
            " [  244  9435  3765     0]\n",
            " [  244  2260  3753     0]\n",
            " [    0  7330    16     0]\n",
            " [    0  8222    19     0]\n",
            " [  244  2260  3753     0]\n",
            " [  244 10860  3769     0]\n",
            " [    0   890     3     0]\n",
            " [  244  3626  3754     0]\n",
            " [  244  9389  3764     0]\n",
            " [    0 11226    28     0]\n",
            " [  244 11466  3771     0]\n",
            " [  244 12724  3772     0]\n",
            " [    0  2206     5     0]\n",
            " [    0  6934    15     0]\n",
            " [    0  4239    11     0]\n",
            " [    0  8521    21     0]\n",
            " [  244  6635  3759     0]\n",
            " [  244  6991  3762     0]\n",
            " [    0  2915     8     0]\n",
            " [  244  2260  3753     0]\n",
            " [  244  6635  3759     0]\n",
            " [    0  9254    23     0]\n",
            " [    0 10856    27     0]\n",
            " [    0  1724     4     0]\n",
            " [  244 10817  3768     0]\n",
            " [  244    66  3750     0]\n",
            " [    0  9370    24     0]\n",
            " [  244  6315  3758     0]\n",
            " [    0   722     2     0]\n",
            " [  244  1345  3751     0]\n",
            " [    0  1724     4     0]\n",
            " [  244  1487  3752     0]\n",
            " [  244  5616  3757     0]\n",
            " [    0  3244     9     0]\n",
            " [  244  3978  3755     0]\n",
            " [    0 10857    26     0]]\n"
          ]
        }
      ]
    },
    {
      "cell_type": "code",
      "source": [
        "# for/using training data\n",
        "def get_prior_prob(y, label):\n",
        "  total = y.shape[0]\n",
        "  actual = np.sum(y == label)\n",
        "\n",
        "  return total / actual\n"
      ],
      "metadata": {
        "id": "w4DQl4wsgn9o"
      },
      "execution_count": 13,
      "outputs": []
    },
    {
      "cell_type": "code",
      "source": [
        "# for/using training data\n",
        "def conditional_prob(X_train, y_train, feature_col, feature_val, label):\n",
        "  X_filtered = X_train[y_train == label]\n",
        "  num = np.sum(X_filtered[:, feature_col] == feature_val)\n",
        "  denom = X_filtered.shape[0]\n",
        "\n",
        "  return num/denom\n"
      ],
      "metadata": {
        "id": "c-l0_d6Oh2Nz"
      },
      "execution_count": 14,
      "outputs": []
    },
    {
      "cell_type": "code",
      "source": [
        "def predict(X_train, y_train, X_test):\n",
        "  classes = np.unique(y_train)\n",
        "  features = X_train.shape[1]\n",
        "  # print(features)\n",
        "  # prob per word to be certain class\n",
        "  posterior_prob = []\n",
        "\n",
        "  for label in classes:\n",
        "    chance = 1.0\n",
        "    for feature in range(features):\n",
        "      cond = conditional_prob(X_train, y_train, feature, X_test[feature], label)\n",
        "      chance = chance * cond \n",
        "    prior = get_prior_prob(y_train, label)\n",
        "    posterior = chance * prior\n",
        "    posterior_prob.append(posterior)\n",
        "\n",
        "    most_likely = np.argmax(posterior_prob)\n",
        "\n",
        "    return most_likely"
      ],
      "metadata": {
        "id": "KFfdpqykjXvV"
      },
      "execution_count": 15,
      "outputs": []
    },
    {
      "cell_type": "code",
      "source": [
        "def get_accuracy(X_train, y_train, X_test, y_test):\n",
        "  preds = []\n",
        "  for i in range (X_test.shape[0]):\n",
        "    pred = predict(X_train, y_train, X_test[i])\n",
        "    preds.append(pred)\n",
        "  class_preds = np.array(preds)\n",
        "  \n",
        "  accuracy = np.sum(class_preds == y_test)/ class_preds.shape[0]\n",
        "\n",
        "  return accuracy \n"
      ],
      "metadata": {
        "id": "oNOyK57ClggQ"
      },
      "execution_count": 16,
      "outputs": []
    },
    {
      "cell_type": "code",
      "source": [
        "acc = get_accuracy(X_train, y_train, X_test, y_test)"
      ],
      "metadata": {
        "id": "58Gw34GRmyjx"
      },
      "execution_count": 17,
      "outputs": []
    },
    {
      "cell_type": "code",
      "source": [
        "print(acc)"
      ],
      "metadata": {
        "colab": {
          "base_uri": "https://localhost:8080/"
        },
        "id": "bZ2Pj6r31d2B",
        "outputId": "3258ccc1-56a9-44f3-cf56-29d28a4d9d37"
      },
      "execution_count": 18,
      "outputs": [
        {
          "output_type": "stream",
          "name": "stdout",
          "text": [
            "0.47368421052631576\n"
          ]
        }
      ]
    }
  ]
}